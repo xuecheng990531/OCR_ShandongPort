{
 "cells": [
  {
   "cell_type": "code",
   "execution_count": 209,
   "outputs": [],
   "source": [
    "feimu=[\"印花税\",\"货物保价费\",\"运费合计\",\"发站取送车费\",\"发站装卸费\"]\n",
    "jine= [\"3. 1\",\"9. 17\",\"11869. 36\",\"76. 42\",\"372.74\"]\n",
    "shuie=[\"0.0\",\"0.83\",\"1068.24\",\"4.58\",\"22.36\"]"
   ],
   "metadata": {
    "collapsed": false
   }
  },
  {
   "cell_type": "code",
   "execution_count": 211,
   "outputs": [
    {
     "name": "stdout",
     "output_type": "stream",
     "text": [
      "{'费目': '印花税', '金额': '3. 1', '税额': '0.0'}\n",
      "{'费目': '货物保价费', '金额': '9. 17', '税额': '0.83'}\n",
      "{'费目': '运费合计', '金额': '11869. 36', '税额': '1068.24'}\n",
      "{'费目': '发站取送车费', '金额': '76. 42', '税额': '4.58'}\n",
      "{'费目': '发站装卸费', '金额': '372.74', '税额': '22.36'}\n"
     ]
    }
   ],
   "source": [
    "if len(feimu)==len(jine)==len(shuie):\n",
    "    for i in range(len(feimu)):\n",
    "        list={\n",
    "            \"费目\":feimu[i],\"金额\":jine[i],\"税额\":shuie[i]\n",
    "        }\n",
    "        print(list)"
   ],
   "metadata": {
    "collapsed": false
   }
  },
  {
   "cell_type": "code",
   "execution_count": null,
   "outputs": [],
   "source": [],
   "metadata": {
    "collapsed": false
   }
  }
 ],
 "metadata": {
  "kernelspec": {
   "display_name": "paddle",
   "language": "python",
   "name": "python3"
  },
  "language_info": {
   "codemirror_mode": {
    "name": "ipython",
    "version": 3
   },
   "file_extension": ".py",
   "mimetype": "text/x-python",
   "name": "python",
   "nbconvert_exporter": "python",
   "pygments_lexer": "ipython3",
   "version": "3.10.8"
  },
  "orig_nbformat": 4,
  "vscode": {
   "interpreter": {
    "hash": "4a129870da0c72a58026d87b463b3a5cf6bb39a1587b94585191929d82b49e24"
   }
  }
 },
 "nbformat": 4,
 "nbformat_minor": 2
}
