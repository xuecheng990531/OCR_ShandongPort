{
 "cells": [
  {
   "cell_type": "code",
   "execution_count": 9,
   "metadata": {},
   "outputs": [],
   "source": [
    "final=['6465', '2496', '202', '05', '27', '3850']\n",
    "list2=[]\n",
    "if len(final)!=0:\n",
    "    list2 = [i for i in final if len(i) >3]"
   ]
  },
  {
   "cell_type": "code",
   "execution_count": 14,
   "metadata": {},
   "outputs": [
    {
     "data": {
      "text/plain": [
       "['6465', '2496', '3850']"
      ]
     },
     "execution_count": 14,
     "metadata": {},
     "output_type": "execute_result"
    }
   ],
   "source": [
    "list2"
   ]
  },
  {
   "cell_type": "code",
   "execution_count": 1,
   "metadata": {},
   "outputs": [],
   "source": [
    "import re \n",
    "rpt='车辆号牌：370283301676'\n",
    "number=re.findall(\"\\d+\",rpt)"
   ]
  },
  {
   "cell_type": "code",
   "execution_count": 4,
   "metadata": {},
   "outputs": [],
   "source": [
    "rot=[\"车辆号牌：370283301676\",\n",
    "      \"经营许可证号：有限责任（公司）\"]"
   ]
  },
  {
   "cell_type": "code",
   "execution_count": 6,
   "metadata": {},
   "outputs": [
    {
     "name": "stdout",
     "output_type": "stream",
     "text": [
      "['370283301676']\n",
      "[]\n"
     ]
    }
   ],
   "source": [
    "if len(rot)!=0:\n",
    "    for i in range(len(rot)):\n",
    "        number=re.findall(\"\\d+\",rot[i])\n",
    "        if len(number)>6:\n",
    "            print(number)"
   ]
  },
  {
   "cell_type": "code",
   "execution_count": 16,
   "metadata": {},
   "outputs": [],
   "source": [
    "final=[\"000\",\"675\",\"2490\",\"3290\"]\n",
    "list2 = [i for i in final if len(i) >2 and len(i)<5]"
   ]
  },
  {
   "cell_type": "code",
   "execution_count": 14,
   "metadata": {},
   "outputs": [
    {
     "data": {
      "text/plain": [
       "['000', '675', '2490', '3290']"
      ]
     },
     "execution_count": 14,
     "metadata": {},
     "output_type": "execute_result"
    }
   ],
   "source": [
    "list2"
   ]
  },
  {
   "cell_type": "code",
   "execution_count": null,
   "metadata": {},
   "outputs": [],
   "source": []
  }
 ],
 "metadata": {
  "kernelspec": {
   "display_name": "paddle",
   "language": "python",
   "name": "python3"
  },
  "language_info": {
   "codemirror_mode": {
    "name": "ipython",
    "version": 3
   },
   "file_extension": ".py",
   "mimetype": "text/x-python",
   "name": "python",
   "nbconvert_exporter": "python",
   "pygments_lexer": "ipython3",
   "version": "3.8.13"
  },
  "orig_nbformat": 4,
  "vscode": {
   "interpreter": {
    "hash": "a43bdb5cdb3ca7ce8805fd831f6624519677bd3f0f62e70027d9ec1efc522245"
   }
  }
 },
 "nbformat": 4,
 "nbformat_minor": 2
}
