{
 "cells": [
  {
   "cell_type": "code",
   "execution_count": 16,
   "metadata": {},
   "outputs": [
    {
     "name": "stdout",
     "output_type": "stream",
     "text": [
      "11\n",
      "500g+/条\n"
     ]
    }
   ],
   "source": [
    "s='1冻黑线鳕鱼俄罗斯联邦500g+/条'\n",
    "for i in range(len(s)-1, -1, -1):  # 倒序遍历字符串\n",
    "    if s[i] == '5':  # 找到数字 5\n",
    "        index = i\n",
    "        break\n",
    "print(s[index:])"
   ]
  },
  {
   "cell_type": "code",
   "execution_count": 14,
   "metadata": {},
   "outputs": [
    {
     "data": {
      "text/plain": [
       "'1冻黑线鳕鱼俄罗斯联邦500g'"
      ]
     },
     "execution_count": 14,
     "metadata": {},
     "output_type": "execute_result"
    }
   ],
   "source": [
    "match.group()"
   ]
  },
  {
   "cell_type": "code",
   "execution_count": null,
   "metadata": {},
   "outputs": [],
   "source": []
  }
 ],
 "metadata": {
  "kernelspec": {
   "display_name": "paddle",
   "language": "python",
   "name": "python3"
  },
  "language_info": {
   "codemirror_mode": {
    "name": "ipython",
    "version": 3
   },
   "file_extension": ".py",
   "mimetype": "text/x-python",
   "name": "python",
   "nbconvert_exporter": "python",
   "pygments_lexer": "ipython3",
   "version": "3.10.0"
  },
  "orig_nbformat": 4,
  "vscode": {
   "interpreter": {
    "hash": "55a808b912ee8e3a1e454e927dbf34a3d316d944ff1a8527600e686ddf335e80"
   }
  }
 },
 "nbformat": 4,
 "nbformat_minor": 2
}
