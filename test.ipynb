{
 "cells": [
  {
   "cell_type": "code",
   "execution_count": 1,
   "metadata": {},
   "outputs": [],
   "source": [
    "import re\n",
    "def get_star_before(s):\n",
    "    s_nospace=s.replace(' ','')\n",
    "\n",
    "    pattern = r'\\*(\\d+)' # 正则表达式\n",
    "    match = re.search(pattern, s) # 进行匹配\n",
    "    if match:\n",
    "        pos = match.start(1) # 获取数字开始位置\n",
    "        if pos is not None:\n",
    "            return s[:pos]\n",
    "        else:\n",
    "            return s\n",
    "    else:\n",
    "        return s\n",
    "def reverse_traversal(s):\n",
    "    for i, c in reversed(list(enumerate(s))):\n",
    "        if c.isdigit() and (i == 0 or not s[i-1].isdigit()) and (c != '.' and c != '-' or i == len(s)-1 or not s[i+1].isdigit()):\n",
    "            return i\n",
    "        elif not c.isdigit() and (i == 0 or s[i-1].isdigit())and (c != '.' and c != '-' or i == len(s)-1 or not s[i+1].isdigit()):\n",
    "            return i\n",
    "    # 如果字符串为空或全是数字或全是非数字，则返回-1\n",
    "    return -1"
   ]
  },
  {
   "cell_type": "code",
   "execution_count": 2,
   "metadata": {},
   "outputs": [],
   "source": [
    "def get_result(chars:str):\n",
    "    chars=''.join(chars)\n",
    "    star_before=get_star_before(chars)\n",
    "    # 定位到数字和非数字的索引位置\n",
    "    s=reverse_traversal(star_before)\n",
    "    if s!=-1:\n",
    "        number=reverse_traversal(star_before[:s])\n",
    "    guige=star_before[number:]\n",
    "    return guige"
   ]
  },
  {
   "cell_type": "code",
   "execution_count": 3,
   "metadata": {},
   "outputs": [
    {
     "data": {
      "text/plain": [
       "'300g+/条**／**'"
      ]
     },
     "execution_count": 3,
     "metadata": {},
     "output_type": "execute_result"
    }
   ],
   "source": [
    "final=get_result(chars='俄罗斯联邦300g+/条**／**197522.21千克2021-05（**）')\n",
    "final"
   ]
  },
  {
   "cell_type": "code",
   "execution_count": null,
   "metadata": {},
   "outputs": [],
   "source": []
  }
 ],
 "metadata": {
  "kernelspec": {
   "display_name": "paddle",
   "language": "python",
   "name": "python3"
  },
  "language_info": {
   "codemirror_mode": {
    "name": "ipython",
    "version": 3
   },
   "file_extension": ".py",
   "mimetype": "text/x-python",
   "name": "python",
   "nbconvert_exporter": "python",
   "pygments_lexer": "ipython3",
   "version": "3.10.10"
  },
  "orig_nbformat": 4,
  "vscode": {
   "interpreter": {
    "hash": "a43bdb5cdb3ca7ce8805fd831f6624519677bd3f0f62e70027d9ec1efc522245"
   }
  }
 },
 "nbformat": 4,
 "nbformat_minor": 2
}
