{
 "cells": [
  {
   "cell_type": "code",
   "execution_count": 7,
   "metadata": {},
   "outputs": [
    {
     "name": "stderr",
     "output_type": "stream",
     "text": [
      "E0323 21:57:24.357273 82363776 analysis_config.cc:389] Please compile with MKLDNN first to use MKLDNN\n",
      "\u001b[32m[2023-03-23 21:57:25,034] [    INFO]\u001b[0m - We are using <class 'paddlenlp.transformers.ernie.tokenizer.ErnieTokenizer'> to load '/Users/xc/.paddlenlp/taskflow/information_extraction/uie-base'.\u001b[0m\n"
     ]
    },
    {
     "data": {
      "text/plain": [
       "{'text': '甘肃省敦煌市转渠口镇定西村五组',\n",
       " 'start': 6,\n",
       " 'end': 21,\n",
       " 'probability': 0.5276356213541149}"
      ]
     },
     "execution_count": 7,
     "metadata": {},
     "output_type": "execute_result"
    }
   ],
   "source": [
    "from paddlenlp import Taskflow\n",
    "schema=['住址']\n",
    "ie=Taskflow('information_extraction',schema=schema)\n",
    "ie('Name住址甘肃省敦煌市转渠口镇定西村五组附35号Address')[0]['住址'][0]"
   ]
  },
  {
   "cell_type": "code",
   "execution_count": 10,
   "metadata": {},
   "outputs": [
    {
     "name": "stdout",
     "output_type": "stream",
     "text": [
      "English characters: NameAddress\n",
      "Non-English characters: 住址甘肃省敦煌市转渠口镇定西村五组附35号\n"
     ]
    }
   ],
   "source": [
    "string = \"Name住址甘肃省敦煌市转渠口镇定西村五组附35号Address\"\n",
    "english_chars = \"\"\n",
    "non_english_chars = \"\"\n",
    "for char in string:\n",
    "    if char.isalpha() and ord(char) < 128: # 只保留ASCII码范围内的英文字符\n",
    "        english_chars += char\n",
    "    else:\n",
    "        non_english_chars += char\n",
    "print(\"English characters:\", english_chars)\n",
    "print(\"Non-English characters:\", non_english_chars)"
   ]
  },
  {
   "cell_type": "code",
   "execution_count": null,
   "metadata": {},
   "outputs": [],
   "source": [
    "def split_address(string):\n",
    "    english_chars = \"\"\n",
    "    non_english_chars = \"\"\n",
    "    for char in string:\n",
    "        if char.isalpha() and ord(char) < 128: # 只保留ASCII码范围内的英文字符\n",
    "            english_chars += char\n",
    "        else:\n",
    "            non_english_chars += char\n",
    "    return non_english_chars"
   ]
  }
 ],
 "metadata": {
  "kernelspec": {
   "display_name": "paddle",
   "language": "python",
   "name": "python3"
  },
  "language_info": {
   "codemirror_mode": {
    "name": "ipython",
    "version": 3
   },
   "file_extension": ".py",
   "mimetype": "text/x-python",
   "name": "python",
   "nbconvert_exporter": "python",
   "pygments_lexer": "ipython3",
   "version": "3.10.0"
  },
  "orig_nbformat": 4,
  "vscode": {
   "interpreter": {
    "hash": "55a808b912ee8e3a1e454e927dbf34a3d316d944ff1a8527600e686ddf335e80"
   }
  }
 },
 "nbformat": 4,
 "nbformat_minor": 2
}
